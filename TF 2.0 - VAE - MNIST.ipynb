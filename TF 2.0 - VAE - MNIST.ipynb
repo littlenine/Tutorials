{
 "cells": [
  {
   "cell_type": "code",
   "execution_count": 21,
   "metadata": {},
   "outputs": [
    {
     "name": "stdout",
     "output_type": "stream",
     "text": [
      "2.0.0-alpha0\n",
      "GPU Available:  True\n"
     ]
    }
   ],
   "source": [
    "import tensorflow as tf\n",
    "from tensorflow import keras\n",
    "\n",
    "# double check your tf version\n",
    "print(tf.__version__)\n",
    "\n",
    "# get sampling data set\n",
    "fashion_mnist = keras.datasets.mnist\n",
    "(trainx, trainy), (testx, testy) = fashion_mnist.load_data()\n",
    "\n",
    "print(\"GPU Available: \", tf.test.is_gpu_available())"
   ]
  },
  {
   "cell_type": "code",
   "execution_count": 22,
   "metadata": {},
   "outputs": [
    {
     "data": {
      "image/png": "[encoded data removed]",
      "text/plain": [
       "<Figure size 432x288 with 1 Axes>"
      ]
     },
     "metadata": {
      "needs_background": "light"
     },
     "output_type": "display_data"
    },
    {
     "name": "stdout",
     "output_type": "stream",
     "text": [
      "(60000, 28, 28)\n",
      "(60000,)\n",
      "(10000, 28, 28)\n",
      "(10000,)\n"
     ]
    }
   ],
   "source": [
    "import matplotlib.pyplot as plt\n",
    "imgplot = plt.imshow(trainx[0])\n",
    "plt.show()\n",
    "trainx = trainx / 255.0\n",
    "testx  = testx / 255.0\n",
    "\n",
    "print(trainx.shape)\n",
    "print(trainy.shape)\n",
    "print(testx.shape)\n",
    "print(testy.shape)"
   ]
  },
  {
   "cell_type": "code",
   "execution_count": 23,
   "metadata": {},
   "outputs": [
    {
     "name": "stdout",
     "output_type": "stream",
     "text": [
      "(60000, 28, 28, 1)\n",
      "(10000, 28, 28, 1)\n"
     ]
    }
   ],
   "source": [
    "# reshape your data dimension into 3D (28,28,1)\n",
    "trainx= trainx.reshape(trainx.shape[0], 28, 28, 1).astype('float32')\n",
    "testx = testx.reshape(testx.shape[0], 28, 28, 1).astype('float32')\n",
    "\n",
    "print(trainx.shape)\n",
    "print(testx.shape)"
   ]
  },
  {
   "cell_type": "code",
   "execution_count": 24,
   "metadata": {},
   "outputs": [],
   "source": [
    "# suggestion from Tutorial, shuffle dataset\n",
    "TRAIN_BUF = 60000\n",
    "BATCH_SIZE = 100\n",
    "TEST_BUF = 10000\n",
    "\n",
    "train_dataset = tf.data.Dataset.from_tensor_slices(trainx).shuffle(TRAIN_BUF).batch(BATCH_SIZE)\n",
    "test_dataset = tf.data.Dataset.from_tensor_slices(testx).shuffle(TEST_BUF).batch(BATCH_SIZE)"
   ]
  },
  {
   "cell_type": "code",
   "execution_count": 25,
   "metadata": {},
   "outputs": [
    {
     "data": {
      "text/html": [
       "<img src=\"https://i.imgur.com/j8MEca6.png\"/>"
      ],
      "text/plain": [
       "<IPython.core.display.Image object>"
      ]
     },
     "execution_count": 25,
     "metadata": {},
     "output_type": "execute_result"
    }
   ],
   "source": [
    "from IPython.display import Image\n",
    "from IPython.core.display import HTML \n",
    "Image(url= \"https://i.imgur.com/j8MEca6.png\")"
   ]
  },
  {
   "cell_type": "code",
   "execution_count": 26,
   "metadata": {},
   "outputs": [],
   "source": [
    "# dimension : 784 >> 256 >> 2 >> 256 >> 784\n",
    "oriDim = 784\n",
    "latentDim = 2\n",
    "internalDim = 256"
   ]
  },
  {
   "cell_type": "code",
   "execution_count": 27,
   "metadata": {},
   "outputs": [],
   "source": [
    "# we have a sample of Conv2D CAE\n",
    "class CVAE(tf.keras.Model):\n",
    "    def __init__(self, latent_dim):\n",
    "        super(CVAE, self).__init__()\n",
    "        self.latent_dim = latent_dim\n",
    "        self.inference_net = tf.keras.Sequential(\n",
    "          [\n",
    "              tf.keras.layers.InputLayer(input_shape=(28, 28, 1)),\n",
    "              tf.keras.layers.Conv2D(\n",
    "                  filters=32, kernel_size=3, strides=(2, 2), activation='relu'),\n",
    "              tf.keras.layers.Conv2D(\n",
    "                  filters=64, kernel_size=3, strides=(2, 2), activation='relu'),\n",
    "              tf.keras.layers.Flatten(),\n",
    "              # No activation\n",
    "              tf.keras.layers.Dense(latent_dim + latent_dim),\n",
    "          ]\n",
    "        )\n",
    "        \n",
    "        self.generative_net = tf.keras.Sequential(\n",
    "            [\n",
    "              tf.keras.layers.InputLayer(input_shape=(latent_dim,)),\n",
    "              tf.keras.layers.Dense(units=7*7*32, activation=tf.nn.relu),\n",
    "              tf.keras.layers.Reshape(target_shape=(7, 7, 32)),\n",
    "              tf.keras.layers.Conv2DTranspose(\n",
    "                  filters=64,\n",
    "                  kernel_size=3,\n",
    "                  strides=(2, 2),\n",
    "                  padding=\"SAME\",\n",
    "                  activation='relu'),\n",
    "              tf.keras.layers.Conv2DTranspose(\n",
    "                  filters=32,\n",
    "                  kernel_size=3,\n",
    "                  strides=(2, 2),\n",
    "                  padding=\"SAME\",\n",
    "                  activation='relu'),\n",
    "              # No activation\n",
    "              tf.keras.layers.Conv2DTranspose(\n",
    "                  filters=1, kernel_size=3, strides=(1, 1), padding=\"SAME\"),\n",
    "            ]\n",
    "        )\n",
    "    def sample(self, eps=None):\n",
    "        if eps is None:\n",
    "            eps = tf.random.normal(shape=(100, self.latent_dim))\n",
    "        return self.decode(eps, apply_sigmoid=True)\n",
    "\n",
    "    def encode(self, x):\n",
    "        mean, logvar = tf.split(self.inference_net(x), num_or_size_splits=2, axis=1)\n",
    "        return mean, logvar\n",
    "\n",
    "    def reparameterize(self, mean, logvar):\n",
    "        eps = tf.random.normal(shape=mean.shape)\n",
    "        return eps * tf.exp(logvar * .5) + mean\n",
    "\n",
    "    def decode(self, z, apply_sigmoid=False):\n",
    "        logits = self.generative_net(z)\n",
    "        if apply_sigmoid:\n",
    "            probs = tf.sigmoid(logits)\n",
    "            return probs\n",
    "        return logits"
   ]
  },
  {
   "cell_type": "code",
   "execution_count": 28,
   "metadata": {},
   "outputs": [],
   "source": [
    "\n",
    "optimizer = tf.keras.optimizers.Adam(1e-4)\n",
    "\n",
    "def log_normal_pdf(sample, mean, logvar, raxis=1):\n",
    "    log2pi = tf.math.log(2. * np.pi)\n",
    "    value = tf.reduce_sum(-.5 * ((sample - mean) ** 2. * tf.exp(-logvar) + logvar + log2pi), axis=raxis) \n",
    "    return value\n",
    "\n",
    "def compute_loss(model, x):\n",
    "    mean, logvar = model.encode(x)\n",
    "    z = model.reparameterize(mean, logvar)\n",
    "    x_logit = model.decode(z)\n",
    "\n",
    "    cross_ent = tf.nn.sigmoid_cross_entropy_with_logits(logits=x_logit, labels=x)\n",
    "    logpx_z = -tf.reduce_sum(cross_ent, axis=[1, 2, 3])\n",
    "    logpz = log_normal_pdf(z, 0., 0.)\n",
    "    logqz_x = log_normal_pdf(z, mean, logvar)\n",
    "    return -tf.reduce_mean(logpx_z + logpz - logqz_x)\n",
    "\n",
    "def compute_gradients(model, x):\n",
    "    with tf.GradientTape() as tape:\n",
    "        loss = compute_loss(model, x)\n",
    "    return tape.gradient(loss, model.trainable_variables), loss\n",
    "\n",
    "def apply_gradients(optimizer, gradients, variables):\n",
    "    optimizer.apply_gradients(zip(gradients, variables))"
   ]
  },
  {
   "cell_type": "code",
   "execution_count": 29,
   "metadata": {},
   "outputs": [],
   "source": [
    "epochs = 50\n",
    "latent_dim = 50\n",
    "num_examples_to_generate = 16\n",
    "\n",
    "# keeping the random vector constant for generation (prediction) so\n",
    "# it will be easier to see the improvement.\n",
    "random_vector_for_generation = tf.random.normal(\n",
    "    shape=[num_examples_to_generate, latent_dim])\n",
    "model = CVAE(latent_dim)"
   ]
  },
  {
   "cell_type": "code",
   "execution_count": 30,
   "metadata": {},
   "outputs": [],
   "source": [
    "def generate_and_save_images(model, epoch, test_input):\n",
    "    predictions = model.sample(test_input)\n",
    "    fig = plt.figure(figsize=(4,4))\n",
    "\n",
    "    for i in range(predictions.shape[0]):\n",
    "        plt.subplot(4, 4, i+1)\n",
    "        plt.imshow(predictions[i, :, :, 0], cmap='gray')\n",
    "        plt.axis('off')\n",
    "\n",
    "    # tight_layout minimizes the overlap between 2 sub-plots\n",
    "    # plt.savefig('image_at_epoch_{:04d}.png'.format(epoch))\n",
    "    plt.show()"
   ]
  },
  {
   "cell_type": "code",
   "execution_count": 31,
   "metadata": {},
   "outputs": [
    {
     "data": {
      "image/png": "[encoded data removed]",
      "text/plain": [
       "<Figure size 288x288 with 16 Axes>"
      ]
     },
     "metadata": {
      "needs_background": "light"
     },
     "output_type": "display_data"
    },
    {
     "name": "stdout",
     "output_type": "stream",
     "text": [
      "Epoch: 1, Test set ELBO: -190.07235717773438, time elapse for current epoch 26.68625044822693\n",
      "Epoch: 2, Test set ELBO: -150.79193115234375, time elapse for current epoch 24.36939573287964\n",
      "Epoch: 3, Test set ELBO: -133.6259002685547, time elapse for current epoch 24.816534280776978\n",
      "Epoch: 4, Test set ELBO: -125.84974670410156, time elapse for current epoch 23.988186836242676\n",
      "Epoch: 5, Test set ELBO: -121.07827758789062, time elapse for current epoch 24.54601764678955\n",
      "Epoch: 6, Test set ELBO: -117.76216888427734, time elapse for current epoch 23.812330722808838\n",
      "Epoch: 7, Test set ELBO: -115.56123352050781, time elapse for current epoch 24.23996877670288\n",
      "Epoch: 8, Test set ELBO: -113.71700286865234, time elapse for current epoch 24.56765913963318\n",
      "Epoch: 9, Test set ELBO: -112.26549530029297, time elapse for current epoch 23.610517263412476\n",
      "Epoch: 10, Test set ELBO: -111.02761840820312, time elapse for current epoch 23.637836456298828\n",
      "Epoch: 11, Test set ELBO: -110.18065643310547, time elapse for current epoch 23.746387481689453\n",
      "Epoch: 12, Test set ELBO: -109.52552795410156, time elapse for current epoch 23.561727046966553\n",
      "Epoch: 13, Test set ELBO: -108.76366424560547, time elapse for current epoch 23.658687114715576\n",
      "Epoch: 14, Test set ELBO: -108.20853424072266, time elapse for current epoch 25.53478193283081\n",
      "Epoch: 15, Test set ELBO: -107.64704132080078, time elapse for current epoch 23.690634965896606\n"
     ]
    }
   ],
   "source": [
    "generate_and_save_images(model, 0, random_vector_for_generation)\n",
    "\n",
    "import time\n",
    "import numpy as np\n",
    "from IPython import display\n",
    "\n",
    "for epoch in range(1, epochs + 1):\n",
    "    start_time = time.time()\n",
    "    for train_x in train_dataset:\n",
    "        gradients, loss = compute_gradients(model, train_x)\n",
    "        apply_gradients(optimizer, gradients, model.trainable_variables)\n",
    "    end_time = time.time()\n",
    "\n",
    "    if epoch % 1 == 0:\n",
    "        loss = tf.keras.metrics.Mean()\n",
    "        for test_x in test_dataset:\n",
    "            loss(compute_loss(model, test_x))\n",
    "        elbo = -loss.result()\n",
    "        #isplay.clear_output(wait=False)\n",
    "        print('Epoch: {}, Test set ELBO: {}, '\n",
    "          'time elapse for current epoch {}'.format(epoch,\n",
    "                                                    elbo,\n",
    "                                                    end_time - start_time))\n",
    "        #enerate_and_save_images(model, epoch, random_vector_for_generation)"
   ]
  },
  {
   "cell_type": "code",
   "execution_count": 50,
   "metadata": {},
   "outputs": [
    {
     "data": {
      "image/png": "[encoded data removed]",
      "text/plain": [
       "<Figure size 288x288 with 16 Axes>"
      ]
     },
     "metadata": {
      "needs_background": "light"
     },
     "output_type": "display_data"
    },
    {
     "name": "stdout",
     "output_type": "stream",
     "text": [
      "[[[[-0.01289617 -0.04713148 -0.01219821 ...  0.08155244  0.14798802\n",
      "     0.02998658]\n",
      "   [ 0.02585726  0.04723215  0.06636256 ...  0.15725012  0.08984984\n",
      "    -0.03537033]\n",
      "   [ 0.02360396  0.03670759  0.01168706 ...  0.01846894  0.06203237\n",
      "    -0.02412214]\n",
      "   ...\n",
      "   [-0.012058   -0.02082749  0.03266394 ... -0.01994055  0.07987104\n",
      "     0.07032313]\n",
      "   [ 0.05354179 -0.04823022  0.12162715 ...  0.06727296 -0.04703883\n",
      "     0.0028503 ]\n",
      "   [-0.01316315  0.03194703  0.07412634 ... -0.04703453  0.06275229\n",
      "     0.00534841]]\n",
      "\n",
      "  [[-0.03815949 -0.05214599  0.12145018 ...  0.02024387  0.1146181\n",
      "     0.13814604]\n",
      "   [ 0.04349599  0.01986691 -0.00148677 ...  0.13206823  0.14139788\n",
      "    -0.02067769]\n",
      "   [-0.06378291 -0.00284375  0.11010823 ...  0.00871168  0.00060054\n",
      "     0.03884928]\n",
      "   ...\n",
      "   [ 0.1340157   0.03059399 -0.00196402 ...  0.02222012 -0.00497755\n",
      "    -0.0547522 ]\n",
      "   [ 0.125669    0.05097893 -0.02697129 ... -0.04668712 -0.06790212\n",
      "     0.00577241]\n",
      "   [ 0.07990646  0.00887544  0.06894708 ...  0.02454236  0.06344758\n",
      "     0.08414565]]\n",
      "\n",
      "  [[ 0.01268571  0.05796095  0.0787508  ...  0.04196944  0.03926862\n",
      "     0.01536185]\n",
      "   [-0.0721736   0.01425949  0.06501801 ...  0.11517574 -0.03115586\n",
      "     0.07907581]\n",
      "   [ 0.07029856  0.02086272  0.04705064 ...  0.02458762  0.04009209\n",
      "    -0.07841837]\n",
      "   ...\n",
      "   [ 0.06405515  0.08706395  0.04630682 ...  0.03869585  0.04972068\n",
      "     0.08336297]\n",
      "   [ 0.03645477  0.01149192  0.04703927 ...  0.03478273  0.08085896\n",
      "     0.06814806]\n",
      "   [ 0.09289548  0.03402102  0.0899001  ...  0.01288438  0.00492626\n",
      "     0.00035973]]]\n",
      "\n",
      "\n",
      " [[[-0.03386065 -0.00278376  0.02199016 ...  0.00480477 -0.00726479\n",
      "     0.03444301]\n",
      "   [-0.11546667 -0.04124059 -0.0074867  ...  0.15828584  0.02205578\n",
      "    -0.15266141]\n",
      "   [-0.06832989  0.02168025  0.03135838 ...  0.04621143  0.09025733\n",
      "    -0.01801561]\n",
      "   ...\n",
      "   [ 0.04664899  0.10217535  0.05354619 ... -0.01332609 -0.04855914\n",
      "    -0.04700786]\n",
      "   [ 0.07850452  0.06649129  0.14543578 ... -0.00732273 -0.02801992\n",
      "    -0.02205977]\n",
      "   [ 0.10491449  0.08066563  0.07212742 ...  0.08873628  0.07235716\n",
      "     0.01444433]]\n",
      "\n",
      "  [[ 0.02452254 -0.05212642  0.00174072 ...  0.02325984  0.13146856\n",
      "     0.03104897]\n",
      "   [-0.10692447 -0.07142313 -0.00888751 ...  0.04959708  0.01985566\n",
      "     0.02200632]\n",
      "   [ 0.04758869 -0.00221629  0.10720607 ...  0.04038802  0.09535181\n",
      "     0.01338241]\n",
      "   ...\n",
      "   [ 0.00295278 -0.01723595  0.1250032  ...  0.02219163 -0.02434423\n",
      "    -0.01950184]\n",
      "   [ 0.01311035  0.09075898  0.10893331 ... -0.05841372  0.02943643\n",
      "    -0.04040165]\n",
      "   [ 0.02084856  0.08538802  0.01745165 ... -0.05337034  0.09667687\n",
      "    -0.08761395]]\n",
      "\n",
      "  [[ 0.02172366  0.06685779  0.09525725 ...  0.02945255  0.06321876\n",
      "     0.01045669]\n",
      "   [-0.04297314 -0.07765225  0.13120647 ...  0.0410709  -0.0379795\n",
      "     0.09373631]\n",
      "   [ 0.04277542  0.11792897  0.02924633 ...  0.00840992 -0.02905971\n",
      "    -0.04648342]\n",
      "   ...\n",
      "   [-0.03071825 -0.03640892 -0.03271163 ... -0.02011753  0.1303576\n",
      "     0.04807039]\n",
      "   [-0.08752651  0.05226371 -0.07190137 ...  0.02246878  0.0944363\n",
      "    -0.04993523]\n",
      "   [-0.03185831 -0.0574789  -0.03562222 ...  0.03510746  0.11089707\n",
      "     0.02394942]]]\n",
      "\n",
      "\n",
      " [[[-0.03787783 -0.00534617  0.15818208 ...  0.08188151  0.07232025\n",
      "     0.0666961 ]\n",
      "   [-0.08081248 -0.03532209  0.01033738 ...  0.0800918  -0.00263313\n",
      "     0.03998198]\n",
      "   [ 0.04263867  0.10066004  0.01147183 ...  0.01256173 -0.00864211\n",
      "    -0.04410915]\n",
      "   ...\n",
      "   [ 0.07792629  0.01120411  0.08255968 ...  0.0276124  -0.03904894\n",
      "    -0.05012842]\n",
      "   [ 0.08012658  0.03403262  0.01010828 ...  0.11473612  0.01061504\n",
      "    -0.01651352]\n",
      "   [ 0.03696574 -0.05484607  0.11513454 ...  0.01610927 -0.05303692\n",
      "    -0.01103403]]\n",
      "\n",
      "  [[-0.03708948  0.06695718  0.07439094 ...  0.11108824  0.03415465\n",
      "     0.03607009]\n",
      "   [-0.03398416  0.05265278  0.06065198 ...  0.12426058  0.13559082\n",
      "    -0.04431782]\n",
      "   [-0.01447021  0.04409093 -0.00355174 ... -0.02703523 -0.03556553\n",
      "     0.00782771]\n",
      "   ...\n",
      "   [-0.10062786 -0.03975067  0.01115191 ...  0.10235861  0.05921044\n",
      "    -0.00129119]\n",
      "   [-0.0265225   0.02605668 -0.02209992 ...  0.06253335 -0.09415802\n",
      "     0.06326424]\n",
      "   [ 0.01977725  0.10968667  0.01660793 ...  0.00081751  0.09644143\n",
      "    -0.02040454]]\n",
      "\n",
      "  [[-0.02407898 -0.02000604  0.05095649 ...  0.06878329  0.01582578\n",
      "     0.02436347]\n",
      "   [-0.03271172  0.09296367  0.13841125 ...  0.08062355  0.06485429\n",
      "     0.07714344]\n",
      "   [-0.05271212  0.02149828  0.11772709 ...  0.12014952  0.07722546\n",
      "     0.07764264]\n",
      "   ...\n",
      "   [ 0.05129311  0.07400006 -0.03368598 ...  0.00379145  0.03696432\n",
      "    -0.01833586]\n",
      "   [-0.0562735  -0.00491453  0.11000887 ...  0.13580124 -0.04166631\n",
      "     0.04906933]\n",
      "   [ 0.06594016 -0.033909    0.04686523 ...  0.06752117  0.12606327\n",
      "    -0.03187815]]]]\n",
      "(3, 3, 32, 64)\n"
     ]
    },
    {
     "ename": "TypeError",
     "evalue": "Invalid dimensions for image data",
     "output_type": "error",
     "traceback": [
      "\u001b[1;31m---------------------------------------------------------------------------\u001b[0m",
      "\u001b[1;31mTypeError\u001b[0m                                 Traceback (most recent call last)",
      "\u001b[1;32m<ipython-input-50-2016fbc0a4a8>\u001b[0m in \u001b[0;36m<module>\u001b[1;34m\u001b[0m\n\u001b[0;32m     10\u001b[0m \u001b[1;33m\u001b[0m\u001b[0m\n\u001b[0;32m     11\u001b[0m \u001b[1;33m\u001b[0m\u001b[0m\n\u001b[1;32m---> 12\u001b[1;33m \u001b[0mplt\u001b[0m\u001b[1;33m.\u001b[0m\u001b[0mimshow\u001b[0m\u001b[1;33m(\u001b[0m\u001b[0mmodel\u001b[0m\u001b[1;33m.\u001b[0m\u001b[0minference_net\u001b[0m\u001b[1;33m.\u001b[0m\u001b[0mlayers\u001b[0m\u001b[1;33m[\u001b[0m\u001b[1;36m1\u001b[0m\u001b[1;33m]\u001b[0m\u001b[1;33m.\u001b[0m\u001b[0mget_weights\u001b[0m\u001b[1;33m(\u001b[0m\u001b[1;33m)\u001b[0m\u001b[1;33m[\u001b[0m\u001b[1;36m0\u001b[0m\u001b[1;33m]\u001b[0m\u001b[1;33m)\u001b[0m\u001b[1;33m\u001b[0m\u001b[1;33m\u001b[0m\u001b[0m\n\u001b[0m\u001b[0;32m     13\u001b[0m \u001b[0mplt\u001b[0m\u001b[1;33m.\u001b[0m\u001b[0mshow\u001b[0m\u001b[1;33m(\u001b[0m\u001b[1;33m)\u001b[0m\u001b[1;33m\u001b[0m\u001b[1;33m\u001b[0m\u001b[0m\n",
      "\u001b[1;32mF:\\Python36\\lib\\site-packages\\matplotlib\\pyplot.py\u001b[0m in \u001b[0;36mimshow\u001b[1;34m(X, cmap, norm, aspect, interpolation, alpha, vmin, vmax, origin, extent, shape, filternorm, filterrad, imlim, resample, url, data, **kwargs)\u001b[0m\n\u001b[0;32m   2697\u001b[0m         \u001b[0mfilternorm\u001b[0m\u001b[1;33m=\u001b[0m\u001b[0mfilternorm\u001b[0m\u001b[1;33m,\u001b[0m \u001b[0mfilterrad\u001b[0m\u001b[1;33m=\u001b[0m\u001b[0mfilterrad\u001b[0m\u001b[1;33m,\u001b[0m \u001b[0mimlim\u001b[0m\u001b[1;33m=\u001b[0m\u001b[0mimlim\u001b[0m\u001b[1;33m,\u001b[0m\u001b[1;33m\u001b[0m\u001b[1;33m\u001b[0m\u001b[0m\n\u001b[0;32m   2698\u001b[0m         resample=resample, url=url, **({\"data\": data} if data is not\n\u001b[1;32m-> 2699\u001b[1;33m         None else {}), **kwargs)\n\u001b[0m\u001b[0;32m   2700\u001b[0m     \u001b[0msci\u001b[0m\u001b[1;33m(\u001b[0m\u001b[0m__ret\u001b[0m\u001b[1;33m)\u001b[0m\u001b[1;33m\u001b[0m\u001b[1;33m\u001b[0m\u001b[0m\n\u001b[0;32m   2701\u001b[0m     \u001b[1;32mreturn\u001b[0m \u001b[0m__ret\u001b[0m\u001b[1;33m\u001b[0m\u001b[1;33m\u001b[0m\u001b[0m\n",
      "\u001b[1;32mF:\\Python36\\lib\\site-packages\\matplotlib\\__init__.py\u001b[0m in \u001b[0;36minner\u001b[1;34m(ax, data, *args, **kwargs)\u001b[0m\n\u001b[0;32m   1808\u001b[0m                         \u001b[1;34m\"the Matplotlib list!)\"\u001b[0m \u001b[1;33m%\u001b[0m \u001b[1;33m(\u001b[0m\u001b[0mlabel_namer\u001b[0m\u001b[1;33m,\u001b[0m \u001b[0mfunc\u001b[0m\u001b[1;33m.\u001b[0m\u001b[0m__name__\u001b[0m\u001b[1;33m)\u001b[0m\u001b[1;33m,\u001b[0m\u001b[1;33m\u001b[0m\u001b[1;33m\u001b[0m\u001b[0m\n\u001b[0;32m   1809\u001b[0m                         RuntimeWarning, stacklevel=2)\n\u001b[1;32m-> 1810\u001b[1;33m             \u001b[1;32mreturn\u001b[0m \u001b[0mfunc\u001b[0m\u001b[1;33m(\u001b[0m\u001b[0max\u001b[0m\u001b[1;33m,\u001b[0m \u001b[1;33m*\u001b[0m\u001b[0margs\u001b[0m\u001b[1;33m,\u001b[0m \u001b[1;33m**\u001b[0m\u001b[0mkwargs\u001b[0m\u001b[1;33m)\u001b[0m\u001b[1;33m\u001b[0m\u001b[1;33m\u001b[0m\u001b[0m\n\u001b[0m\u001b[0;32m   1811\u001b[0m \u001b[1;33m\u001b[0m\u001b[0m\n\u001b[0;32m   1812\u001b[0m         inner.__doc__ = _add_data_doc(inner.__doc__,\n",
      "\u001b[1;32mF:\\Python36\\lib\\site-packages\\matplotlib\\axes\\_axes.py\u001b[0m in \u001b[0;36mimshow\u001b[1;34m(self, X, cmap, norm, aspect, interpolation, alpha, vmin, vmax, origin, extent, shape, filternorm, filterrad, imlim, resample, url, **kwargs)\u001b[0m\n\u001b[0;32m   5492\u001b[0m                               resample=resample, **kwargs)\n\u001b[0;32m   5493\u001b[0m \u001b[1;33m\u001b[0m\u001b[0m\n\u001b[1;32m-> 5494\u001b[1;33m         \u001b[0mim\u001b[0m\u001b[1;33m.\u001b[0m\u001b[0mset_data\u001b[0m\u001b[1;33m(\u001b[0m\u001b[0mX\u001b[0m\u001b[1;33m)\u001b[0m\u001b[1;33m\u001b[0m\u001b[1;33m\u001b[0m\u001b[0m\n\u001b[0m\u001b[0;32m   5495\u001b[0m         \u001b[0mim\u001b[0m\u001b[1;33m.\u001b[0m\u001b[0mset_alpha\u001b[0m\u001b[1;33m(\u001b[0m\u001b[0malpha\u001b[0m\u001b[1;33m)\u001b[0m\u001b[1;33m\u001b[0m\u001b[1;33m\u001b[0m\u001b[0m\n\u001b[0;32m   5496\u001b[0m         \u001b[1;32mif\u001b[0m \u001b[0mim\u001b[0m\u001b[1;33m.\u001b[0m\u001b[0mget_clip_path\u001b[0m\u001b[1;33m(\u001b[0m\u001b[1;33m)\u001b[0m \u001b[1;32mis\u001b[0m \u001b[1;32mNone\u001b[0m\u001b[1;33m:\u001b[0m\u001b[1;33m\u001b[0m\u001b[1;33m\u001b[0m\u001b[0m\n",
      "\u001b[1;32mF:\\Python36\\lib\\site-packages\\matplotlib\\image.py\u001b[0m in \u001b[0;36mset_data\u001b[1;34m(self, A)\u001b[0m\n\u001b[0;32m    636\u001b[0m         if not (self._A.ndim == 2\n\u001b[0;32m    637\u001b[0m                 or self._A.ndim == 3 and self._A.shape[-1] in [3, 4]):\n\u001b[1;32m--> 638\u001b[1;33m             \u001b[1;32mraise\u001b[0m \u001b[0mTypeError\u001b[0m\u001b[1;33m(\u001b[0m\u001b[1;34m\"Invalid dimensions for image data\"\u001b[0m\u001b[1;33m)\u001b[0m\u001b[1;33m\u001b[0m\u001b[1;33m\u001b[0m\u001b[0m\n\u001b[0m\u001b[0;32m    639\u001b[0m \u001b[1;33m\u001b[0m\u001b[0m\n\u001b[0;32m    640\u001b[0m         \u001b[1;32mif\u001b[0m \u001b[0mself\u001b[0m\u001b[1;33m.\u001b[0m\u001b[0m_A\u001b[0m\u001b[1;33m.\u001b[0m\u001b[0mndim\u001b[0m \u001b[1;33m==\u001b[0m \u001b[1;36m3\u001b[0m\u001b[1;33m:\u001b[0m\u001b[1;33m\u001b[0m\u001b[1;33m\u001b[0m\u001b[0m\n",
      "\u001b[1;31mTypeError\u001b[0m: Invalid dimensions for image data"
     ]
    },
    {
     "data": {
      "image/png": "[encoded data removed]",
      "text/plain": [
       "<Figure size 432x288 with 1 Axes>"
      ]
     },
     "metadata": {
      "needs_background": "light"
     },
     "output_type": "display_data"
    }
   ],
   "source": [
    "generate_and_save_images(model, 100, random_vector_for_generation)\n",
    "inference_net_Conv2D_layer1 = model.inference_net.layers[1].get_weights()\n",
    "\n",
    "# print(inference_net_Conv2D_layer1[0])\n",
    "print(np.array(inference_net_Conv2D_layer1[0]).shape)\n",
    "\n",
    "# 解釋一下~ Input通常是28 x 28 x 1 (gray scale) 或 3 (RGB scale)\n",
    "# 所以第一層convolution layer的形狀考慮unit是32的話\n",
    "# 通常會是3 x 3 x 32 x 1這種shape\n",
    "# 不過做完第一層convolution之後他就會輸出一個32個channel的影像\n",
    "# 所以第二層他的參數個數就會變成3 x 3 x 第二層unit個數 x 第一層unit個數(i.e.,我這邊寫的32)\n",
    "\n",
    "# https://github.com/jessee-kung/tu-etp-ad1062/blob/master/demo_04.ipynb?fbclid=IwAR3SE1mYaFtKPbQKoE-3TiuOm3lXQZ-WL_kIku_knCou2EyB4UnQ4YEuIJc\n",
    "\n",
    "plt.imshow(model.inference_net.layers[1].get_weights()[0])\n",
    "plt.show()"
   ]
  },
  {
   "cell_type": "code",
   "execution_count": 1,
   "metadata": {},
   "outputs": [
    {
     "data": {
      "application/javascript": [
       "if (window.IPython && IPython.notebook.kernel) IPython.notebook.kernel.execute('jovian.utils.jupyter.get_notebook_name_saved = lambda: \"' + IPython.notebook.notebook_name + '\"')"
      ],
      "text/plain": [
       "<IPython.core.display.Javascript object>"
      ]
     },
     "metadata": {},
     "output_type": "display_data"
    },
    {
     "name": "stdout",
     "output_type": "stream",
     "text": [
      "[jovian] Saving notebook..\n"
     ]
    },
    {
     "data": {
      "application/javascript": [
       "window.require && require([\"base/js/namespace\"],function(Jupyter){Jupyter.notebook.save_checkpoint()})"
      ],
      "text/plain": [
       "<IPython.core.display.Javascript object>"
      ]
     },
     "metadata": {},
     "output_type": "display_data"
    },
    {
     "name": "stdout",
     "output_type": "stream",
     "text": [
      "[jovian] Creating a new notebook on https://jvn.io\n"
     ]
    },
    {
     "name": "stderr",
     "output_type": "stream",
     "text": [
      "[jovian] Error: The current API key is invalid or expired.\n"
     ]
    },
    {
     "name": "stdout",
     "output_type": "stream",
     "text": [
      "[jovian] Please enter your API key (from https://jvn.io ):\n",
      "········\n",
      "[jovian] Uploading notebook..\n",
      "[jovian] Capturing environment..\n",
      "[jovian] Committed successfully! https://jvn.io/littlenine/09195d5f88f440d29e23b8849ea83f12\n"
     ]
    },
    {
     "name": "stderr",
     "output_type": "stream",
     "text": [
      "[jovian] Error: Failed to read Anaconda environment using command: \"conda env export -n base --no-builds\"\n"
     ]
    }
   ],
   "source": [
    "import jovian\n",
    "jovian.commit()"
   ]
  }
 ],
 "metadata": {
  "kernelspec": {
   "display_name": "Python 3",
   "language": "python",
   "name": "python3"
  },
  "language_info": {
   "codemirror_mode": {
    "name": "ipython",
    "version": 3
   },
   "file_extension": ".py",
   "mimetype": "text/x-python",
   "name": "python",
   "nbconvert_exporter": "python",
   "pygments_lexer": "ipython3",
   "version": "3.6.8"
  }
 },
 "nbformat": 4,
 "nbformat_minor": 2
}
