{
 "cells": [
  {
   "cell_type": "markdown",
   "metadata": {},
   "source": [
    "# MLP\n",
    "\n",
    "In this tutorial, we will use Keras and MNIST dataset.\n",
    "  \n",
    "  \n",
    "MNIST dataset is a opensource dataset for hand writing.\n",
    "Each image is in size 28 x 28 pixel.\n",
    "  \n",
    "\n",
    "Before we start get into Keras, let's prepare some visualize methods."
   ]
  },
  {
   "cell_type": "code",
   "execution_count": 28,
   "metadata": {},
   "outputs": [],
   "source": [
    "import matplotlib.pyplot as plt\n",
    "from IPython.display import Image\n",
    "\n",
    "def show_images(images: list) -> None:\n",
    "    n: int = len(images)\n",
    "    f = plt.figure()\n",
    "    for i in range(n):        \n",
    "        f.add_subplot(1, n, i + 1)\n",
    "        plt.imshow(images[i], cmap='gray')\n",
    "    plt.show(block=True)\n",
    "    \n",
    "def show_image(image) -> None:\n",
    "    plt.imshow(image, cmap='gray')\n",
    "    plt.show(block=True)\n",
    "    \n",
    "def show_online_image(target_url):\n",
    "    # Image(url= \"https://gluon.mxnet.io/_images/dcgan.png\")\n",
    "    Image(url= target_url)\n",
    "    \n",
    "def plot_images_labels_prediction(images,labels,prediction,idx,num=10):\n",
    "    fig=plt.gcf()\n",
    "    fig.set_size_inches(12, 14)\n",
    "    if num > 25: num=25\n",
    "    for i in range(0, num):\n",
    "        ax=plt.subplot(5, 5, i+1)\n",
    "        ax.imshow(images[idx], cmap='binary')\n",
    "        title=\"label=\" + str(labels[idx])\n",
    "        if len(prediction) > 0:\n",
    "            title += \",predict=\" + str(prediction[idx])\n",
    "        ax.set_title(title, fontsize=10)\n",
    "        ax.set_xticks([]);\n",
    "        ax.set_yticks([]);\n",
    "        idx += 1\n",
    "    plt.show()\n",
    "    \n",
    "def show_train_history(train_history):\n",
    "    fig=plt.gcf()\n",
    "    fig.set_size_inches(16, 6)\n",
    "    plt.subplot(121)\n",
    "    print(train_history.history.keys())\n",
    "    \n",
    "    if \"accuracy\" in train_history.history.keys():\n",
    "        plt.plot(train_history.history[\"accuracy\"])\n",
    "    \n",
    "    if \"val_accuracy\" in train_history.history.keys():\n",
    "        plt.plot(train_history.history[\"val_accuracy\"])\n",
    "        \n",
    "    plt.title(\"Train History\")\n",
    "    plt.xlabel(\"Epoch\")\n",
    "    plt.ylabel(\"Accuracy\")\n",
    "    plt.legend([\"train\", \"validation\"], loc=\"upper left\")\n",
    "    plt.subplot(122)\n",
    "    \n",
    "    if \"loss\" in train_history.history.keys():\n",
    "        plt.plot(train_history.history[\"loss\"])\n",
    "        \n",
    "    if \"val_loss\" in train_history.history.keys():\n",
    "        plt.plot(train_history.history[\"val_loss\"])\n",
    "        \n",
    "    plt.title(\"Train History\")\n",
    "    plt.xlabel(\"Epoch\")\n",
    "    plt.ylabel(\"Loss\")\n",
    "    plt.legend([\"train\", \"validation\"], loc=\"upper left\")\n",
    "    plt.show()"
   ]
  },
  {
   "cell_type": "markdown",
   "metadata": {},
   "source": [
    "### Load and check your datas\n",
    "You can load your dataset from Keras directly.\n",
    "Let's check how it looks like."
   ]
  },
  {
   "cell_type": "code",
   "execution_count": 2,
   "metadata": {},
   "outputs": [
    {
     "name": "stderr",
     "output_type": "stream",
     "text": [
      "Using TensorFlow backend.\n"
     ]
    },
    {
     "data": {
      "image/png": "[encoded data removed]",
      "text/plain": [
       "<Figure size 432x288 with 10 Axes>"
      ]
     },
     "metadata": {
      "needs_background": "light"
     },
     "output_type": "display_data"
    },
    {
     "name": "stdout",
     "output_type": "stream",
     "text": [
      "number of training images: 60000\n",
      "number of test images: 10000\n"
     ]
    }
   ],
   "source": [
    "from tensorflow import keras\n",
    "from keras.datasets import mnist\n",
    "\n",
    "(x_train, y_train), (x_test, y_test) = mnist.load_data()\n",
    "\n",
    "# print out first 10 images in our training data\n",
    "imgplot = show_images(x_train[0:10])\n",
    "\n",
    "# check the size of our dataset\n",
    "print(\"number of training images:\",x_train.shape[0])\n",
    "print(\"number of test images:\",y_test.shape[0])"
   ]
  },
  {
   "cell_type": "markdown",
   "metadata": {},
   "source": [
    "Now we know the how many images we have in training data, and we know the structure of MLP.  \n",
    "  \n",
    "**How to make image into MLP input?**    \n",
    "Simply, we make it into a vector."
   ]
  },
  {
   "cell_type": "code",
   "execution_count": 3,
   "metadata": {},
   "outputs": [
    {
     "data": {
      "image/png": "[encoded data removed]",
      "text/plain": [
       "<Figure size 432x288 with 1 Axes>"
      ]
     },
     "metadata": {
      "needs_background": "light"
     },
     "output_type": "display_data"
    },
    {
     "data": {
      "image/png": "[encoded data removed]",
      "text/plain": [
       "<Figure size 432x288 with 1 Axes>"
      ]
     },
     "metadata": {
      "needs_background": "light"
     },
     "output_type": "display_data"
    }
   ],
   "source": [
    "sample = x_train[0]\n",
    "\n",
    "# origin image\n",
    "show_image(sample)\n",
    "\n",
    "# input of MLP, a images were transfer into a vector\n",
    "show_image(sample.reshape(1, 28 * 28))"
   ]
  },
  {
   "cell_type": "code",
   "execution_count": 4,
   "metadata": {},
   "outputs": [],
   "source": [
    "# update all the training, testing dataset.\n",
    "x_train = x_train.reshape(60000, 28*28)\n",
    "x_test = x_test.reshape(10000, 28*28)\n",
    "x_train = x_train.astype('float32')\n",
    "x_test = x_test.astype('float32')\n",
    "\n",
    "# normalize them into range [0, 1]\n",
    "x_train /= 255\n",
    "x_test /= 255"
   ]
  },
  {
   "cell_type": "markdown",
   "metadata": {},
   "source": [
    "**Why Normalize need to divide by 255 for image?**  \n",
    "\n",
    "In computer vision, the color space were \n",
    "R \\[0,255\\]\n",
    "G \\[0,255\\]\n",
    "B \\[0,255\\]\n",
    "\n",
    "While we use gray images, the color space of R G B were same.  \n",
    "We can take color space \\[3, High, Weight\\] of an image as\n",
    "\\[1, High, Weight\\].  \n",
    "Same as \\[H, W\\]  "
   ]
  },
  {
   "cell_type": "markdown",
   "metadata": {},
   "source": [
    "## Prepare your first model  \n",
    "  \n",
    "In Keras, you can create model layers like a Queue.  "
   ]
  },
  {
   "cell_type": "code",
   "execution_count": 30,
   "metadata": {},
   "outputs": [
    {
     "name": "stdout",
     "output_type": "stream",
     "text": [
      "Model: \"sequential_1\"\n",
      "_________________________________________________________________\n",
      "Layer (type)                 Output Shape              Param #   \n",
      "=================================================================\n",
      "dense_3 (Dense)              (None, 256)               200960    \n",
      "_________________________________________________________________\n",
      "dense_4 (Dense)              (None, 256)               65792     \n",
      "_________________________________________________________________\n",
      "dense_5 (Dense)              (None, 10)                2570      \n",
      "=================================================================\n",
      "Total params: 269,322\n",
      "Trainable params: 269,322\n",
      "Non-trainable params: 0\n",
      "_________________________________________________________________\n"
     ]
    }
   ],
   "source": [
    "from tensorflow.keras import layers\n",
    "\n",
    "num_classes = 10\n",
    "\n",
    "# create a Sequential model\n",
    "model = keras.Sequential(\n",
    "    [\n",
    "        # input layer. input data with size 28*28 and output size 256\n",
    "        # 256 means you set up your modul with 256 NN in this layer. This value is up to you.\n",
    "        layers.Dense(256, input_shape=(28*28,), activation='relu'), \n",
    "        \n",
    "        # hidden layer. input data with size 256, which were same to output of input layer.\n",
    "        # output size 256, we set up 256 NN again in this hidden layer.\n",
    "        # no need to give input size here because keras already know.\n",
    "        layers.Dense(256, activation='relu'),\n",
    "        \n",
    "        # output layer. the number of output should be your number of classification\n",
    "        layers.Dense(num_classes, activation='softmax')\n",
    "    ]\n",
    ");\n",
    "\n",
    "# print out model structure\n",
    "model.summary()"
   ]
  },
  {
   "cell_type": "markdown",
   "metadata": {},
   "source": [
    "**What we have in our model is:**  \n",
    "input layer: input size = 28*28+1, output size = 256.  we have totally (28*28+1)* 256 = 200960 parameters.  \n",
    "hidden layer: input size = 256 + 1, output size = 256. we have totally (256+1)* 256   = 65792 parameters.  \n",
    "output layer:input size = 256 + 1, output size = 10.   we have totally (256+1)* 10    = 2570 parameters.  "
   ]
  },
  {
   "cell_type": "markdown",
   "metadata": {},
   "source": [
    "## Compile your model\n",
    "We can now move on to compile our model.  \n",
    "Here are the parameters:  \n",
    "- optimizer : how to optimize your weights.\n",
    "- loss : loss function.\n",
    "- metrics : how to evaluate your model.\n",
    "\n",
    "we don't disscuss how to select your optimizer and loss here. :)  \n",
    "Let's introduce 2 important setting in Machine Learning.\n",
    "- Batch : there are 2 ways to update your weights in model  \n",
    "    - update everytime after watching **an** input.\n",
    "    - update once after watching **batch** of inputs.  \n",
    "      \n",
    "    here we update once for 1000 inputs.  \n",
    "- Epochs : how many times you want to look overwhole your datas."
   ]
  },
  {
   "cell_type": "code",
   "execution_count": 31,
   "metadata": {},
   "outputs": [
    {
     "name": "stdout",
     "output_type": "stream",
     "text": [
      "Train on 48000 samples, validate on 12000 samples\n",
      "Epoch 1/10\n",
      "48000/48000 [==============================] - 6s 129us/sample - loss: 0.2197 - accuracy: 0.9340 - val_loss: 0.1113 - val_accuracy: 0.9671\n",
      "Epoch 2/10\n",
      "48000/48000 [==============================] - 6s 119us/sample - loss: 0.0888 - accuracy: 0.9728 - val_loss: 0.0903 - val_accuracy: 0.9742\n",
      "Epoch 3/10\n",
      "48000/48000 [==============================] - 6s 119us/sample - loss: 0.0626 - accuracy: 0.9797 - val_loss: 0.0935 - val_accuracy: 0.9731\n",
      "Epoch 4/10\n",
      "48000/48000 [==============================] - 6s 118us/sample - loss: 0.0467 - accuracy: 0.9851 - val_loss: 0.0906 - val_accuracy: 0.9749\n",
      "Epoch 5/10\n",
      "48000/48000 [==============================] - 6s 122us/sample - loss: 0.0351 - accuracy: 0.9888 - val_loss: 0.0929 - val_accuracy: 0.9764\n",
      "Epoch 6/10\n",
      "48000/48000 [==============================] - 7s 139us/sample - loss: 0.0291 - accuracy: 0.9905 - val_loss: 0.1253 - val_accuracy: 0.9694\n",
      "Epoch 7/10\n",
      "48000/48000 [==============================] - 6s 126us/sample - loss: 0.0240 - accuracy: 0.9916 - val_loss: 0.1389 - val_accuracy: 0.9701\n",
      "Epoch 8/10\n",
      "48000/48000 [==============================] - 6s 126us/sample - loss: 0.0215 - accuracy: 0.9931 - val_loss: 0.1377 - val_accuracy: 0.9694\n",
      "Epoch 9/10\n",
      "48000/48000 [==============================] - 6s 129us/sample - loss: 0.0207 - accuracy: 0.9932 - val_loss: 0.1080 - val_accuracy: 0.9775\n",
      "Epoch 10/10\n",
      "48000/48000 [==============================] - 6s 128us/sample - loss: 0.0182 - accuracy: 0.9943 - val_loss: 0.1445 - val_accuracy: 0.9706\n"
     ]
    }
   ],
   "source": [
    "model.compile(optimizer='adam', \n",
    "              loss='sparse_categorical_crossentropy', \n",
    "              metrics=['accuracy'])\n",
    "\n",
    "batch_size = 256\n",
    "epochs = 10\n",
    "history = model.fit(x_train, y_train,\n",
    "                    epochs=epochs,\n",
    "                    validation_split=0.2)"
   ]
  },
  {
   "cell_type": "markdown",
   "metadata": {},
   "source": [
    "## Check result of model\n",
    "\n",
    "How it works on testing data?  "
   ]
  },
  {
   "cell_type": "code",
   "execution_count": 32,
   "metadata": {},
   "outputs": [
    {
     "name": "stdout",
     "output_type": "stream",
     "text": [
      "Test loss: 0.10330415646746806\n",
      "Test accuracy: 0.9756\n"
     ]
    }
   ],
   "source": [
    "scores, acc = model.evaluate(x_test, y_test, verbose=0)\n",
    "print('Test loss:', scores)\n",
    "print('Test accuracy:', acc)"
   ]
  },
  {
   "cell_type": "markdown",
   "metadata": {},
   "source": [
    "\n",
    "  \n",
    "It looks nice!   \n",
    "  \n",
    "Let's visualize our result by printing out 25 images of label and predict result."
   ]
  },
  {
   "cell_type": "code",
   "execution_count": 42,
   "metadata": {},
   "outputs": [
    {
     "name": "stdout",
     "output_type": "stream",
     "text": [
      "Test prediction: [7 2 1 ... 4 5 6]\n"
     ]
    },
    {
     "data": {
      "image/png": "[encoded data removed]",
      "text/plain": [
       "<Figure size 864x1008 with 25 Axes>"
      ]
     },
     "metadata": {},
     "output_type": "display_data"
    }
   ],
   "source": [
    "prediction = model.predict_classes(x_test)\n",
    "print('Test prediction:', prediction)\n",
    "\n",
    "i = 0  # start from 0\n",
    "j = 25 # end at 25\n",
    "\n",
    "(_, _), (x_test_image, y_test_label) = mnist.load_data()\n",
    "plot_images_labels_prediction(x_test_image,y_test_label,prediction,i,j)"
   ]
  },
  {
   "cell_type": "code",
   "execution_count": 34,
   "metadata": {},
   "outputs": [
    {
     "name": "stdout",
     "output_type": "stream",
     "text": [
      "dict_keys(['loss', 'accuracy', 'val_loss', 'val_accuracy'])\n"
     ]
    },
    {
     "data": {
      "image/png": "[encoded data removed]",
      "text/plain": [
       "<Figure size 1152x432 with 2 Axes>"
      ]
     },
     "metadata": {
      "needs_background": "light"
     },
     "output_type": "display_data"
    }
   ],
   "source": [
    "#show train history\n",
    "show_train_history(history)"
   ]
  },
  {
   "cell_type": "code",
   "execution_count": 40,
   "metadata": {},
   "outputs": [
    {
     "data": {
      "text/html": [
       "<div>\n",
       "<style scoped>\n",
       "    .dataframe tbody tr th:only-of-type {\n",
       "        vertical-align: middle;\n",
       "    }\n",
       "\n",
       "    .dataframe tbody tr th {\n",
       "        vertical-align: top;\n",
       "    }\n",
       "\n",
       "    .dataframe thead th {\n",
       "        text-align: right;\n",
       "    }\n",
       "</style>\n",
       "<table border=\"1\" class=\"dataframe\">\n",
       "  <thead>\n",
       "    <tr style=\"text-align: right;\">\n",
       "      <th>predict</th>\n",
       "      <th>0</th>\n",
       "      <th>1</th>\n",
       "      <th>2</th>\n",
       "      <th>3</th>\n",
       "      <th>4</th>\n",
       "      <th>5</th>\n",
       "      <th>6</th>\n",
       "      <th>7</th>\n",
       "      <th>8</th>\n",
       "      <th>9</th>\n",
       "    </tr>\n",
       "    <tr>\n",
       "      <th>label</th>\n",
       "      <th></th>\n",
       "      <th></th>\n",
       "      <th></th>\n",
       "      <th></th>\n",
       "      <th></th>\n",
       "      <th></th>\n",
       "      <th></th>\n",
       "      <th></th>\n",
       "      <th></th>\n",
       "      <th></th>\n",
       "    </tr>\n",
       "  </thead>\n",
       "  <tbody>\n",
       "    <tr>\n",
       "      <th>0</th>\n",
       "      <td>969</td>\n",
       "      <td>0</td>\n",
       "      <td>2</td>\n",
       "      <td>2</td>\n",
       "      <td>0</td>\n",
       "      <td>1</td>\n",
       "      <td>4</td>\n",
       "      <td>1</td>\n",
       "      <td>1</td>\n",
       "      <td>0</td>\n",
       "    </tr>\n",
       "    <tr>\n",
       "      <th>1</th>\n",
       "      <td>5</td>\n",
       "      <td>1115</td>\n",
       "      <td>4</td>\n",
       "      <td>1</td>\n",
       "      <td>0</td>\n",
       "      <td>0</td>\n",
       "      <td>5</td>\n",
       "      <td>0</td>\n",
       "      <td>4</td>\n",
       "      <td>1</td>\n",
       "    </tr>\n",
       "    <tr>\n",
       "      <th>2</th>\n",
       "      <td>0</td>\n",
       "      <td>0</td>\n",
       "      <td>1024</td>\n",
       "      <td>1</td>\n",
       "      <td>1</td>\n",
       "      <td>0</td>\n",
       "      <td>1</td>\n",
       "      <td>1</td>\n",
       "      <td>4</td>\n",
       "      <td>0</td>\n",
       "    </tr>\n",
       "    <tr>\n",
       "      <th>3</th>\n",
       "      <td>0</td>\n",
       "      <td>0</td>\n",
       "      <td>5</td>\n",
       "      <td>996</td>\n",
       "      <td>0</td>\n",
       "      <td>0</td>\n",
       "      <td>0</td>\n",
       "      <td>4</td>\n",
       "      <td>3</td>\n",
       "      <td>2</td>\n",
       "    </tr>\n",
       "    <tr>\n",
       "      <th>4</th>\n",
       "      <td>1</td>\n",
       "      <td>2</td>\n",
       "      <td>1</td>\n",
       "      <td>0</td>\n",
       "      <td>935</td>\n",
       "      <td>0</td>\n",
       "      <td>8</td>\n",
       "      <td>2</td>\n",
       "      <td>5</td>\n",
       "      <td>28</td>\n",
       "    </tr>\n",
       "    <tr>\n",
       "      <th>5</th>\n",
       "      <td>2</td>\n",
       "      <td>0</td>\n",
       "      <td>0</td>\n",
       "      <td>23</td>\n",
       "      <td>0</td>\n",
       "      <td>855</td>\n",
       "      <td>6</td>\n",
       "      <td>0</td>\n",
       "      <td>2</td>\n",
       "      <td>4</td>\n",
       "    </tr>\n",
       "    <tr>\n",
       "      <th>6</th>\n",
       "      <td>2</td>\n",
       "      <td>2</td>\n",
       "      <td>0</td>\n",
       "      <td>1</td>\n",
       "      <td>1</td>\n",
       "      <td>2</td>\n",
       "      <td>950</td>\n",
       "      <td>0</td>\n",
       "      <td>0</td>\n",
       "      <td>0</td>\n",
       "    </tr>\n",
       "    <tr>\n",
       "      <th>7</th>\n",
       "      <td>2</td>\n",
       "      <td>4</td>\n",
       "      <td>15</td>\n",
       "      <td>5</td>\n",
       "      <td>1</td>\n",
       "      <td>0</td>\n",
       "      <td>0</td>\n",
       "      <td>989</td>\n",
       "      <td>3</td>\n",
       "      <td>9</td>\n",
       "    </tr>\n",
       "    <tr>\n",
       "      <th>8</th>\n",
       "      <td>2</td>\n",
       "      <td>0</td>\n",
       "      <td>10</td>\n",
       "      <td>12</td>\n",
       "      <td>0</td>\n",
       "      <td>4</td>\n",
       "      <td>3</td>\n",
       "      <td>2</td>\n",
       "      <td>939</td>\n",
       "      <td>2</td>\n",
       "    </tr>\n",
       "    <tr>\n",
       "      <th>9</th>\n",
       "      <td>3</td>\n",
       "      <td>1</td>\n",
       "      <td>0</td>\n",
       "      <td>8</td>\n",
       "      <td>3</td>\n",
       "      <td>2</td>\n",
       "      <td>3</td>\n",
       "      <td>0</td>\n",
       "      <td>5</td>\n",
       "      <td>984</td>\n",
       "    </tr>\n",
       "  </tbody>\n",
       "</table>\n",
       "</div>"
      ],
      "text/plain": [
       "predict    0     1     2    3    4    5    6    7    8    9\n",
       "label                                                      \n",
       "0        969     0     2    2    0    1    4    1    1    0\n",
       "1          5  1115     4    1    0    0    5    0    4    1\n",
       "2          0     0  1024    1    1    0    1    1    4    0\n",
       "3          0     0     5  996    0    0    0    4    3    2\n",
       "4          1     2     1    0  935    0    8    2    5   28\n",
       "5          2     0     0   23    0  855    6    0    2    4\n",
       "6          2     2     0    1    1    2  950    0    0    0\n",
       "7          2     4    15    5    1    0    0  989    3    9\n",
       "8          2     0    10   12    0    4    3    2  939    2\n",
       "9          3     1     0    8    3    2    3    0    5  984"
      ]
     },
     "execution_count": 40,
     "metadata": {},
     "output_type": "execute_result"
    }
   ],
   "source": [
    "import pandas as pd\n",
    "\n",
    "# create confusion matrix\n",
    "pd.crosstab(y_test_label, prediction, rownames=['label'],colnames=['predict'])"
   ]
  },
  {
   "cell_type": "code",
   "execution_count": 44,
   "metadata": {},
   "outputs": [
    {
     "name": "stdout",
     "output_type": "stream",
     "text": [
      "[jovian] Saving notebook..\n"
     ]
    },
    {
     "data": {
      "application/javascript": [
       "window.require && require([\"base/js/namespace\"],function(Jupyter){Jupyter.notebook.save_checkpoint()})"
      ],
      "text/plain": [
       "<IPython.core.display.Javascript object>"
      ]
     },
     "metadata": {},
     "output_type": "display_data"
    },
    {
     "name": "stdout",
     "output_type": "stream",
     "text": [
      "[jovian] Updating notebook \"a3852a58642848449cc8fe84bb745c52\" on https://jvn.io\n",
      "[jovian] Uploading notebook..\n",
      "[jovian] Capturing environment..\n",
      "[jovian] Committed successfully! https://jvn.io/littlenine/a3852a58642848449cc8fe84bb745c52\n"
     ]
    },
    {
     "name": "stderr",
     "output_type": "stream",
     "text": [
      "[jovian] Error: Failed to read Anaconda environment using command: \"conda env export -n base --no-builds\"\n"
     ]
    }
   ],
   "source": [
    "import jovian\n",
    "jovian.commit()"
   ]
  },
  {
   "cell_type": "code",
   "execution_count": null,
   "metadata": {},
   "outputs": [],
   "source": []
  }
 ],
 "metadata": {
  "kernelspec": {
   "display_name": "Python 3",
   "language": "python",
   "name": "python3"
  },
  "language_info": {
   "codemirror_mode": {
    "name": "ipython",
    "version": 3
   },
   "file_extension": ".py",
   "mimetype": "text/x-python",
   "name": "python",
   "nbconvert_exporter": "python",
   "pygments_lexer": "ipython3",
   "version": "3.6.8"
  }
 },
 "nbformat": 4,
 "nbformat_minor": 4
}
