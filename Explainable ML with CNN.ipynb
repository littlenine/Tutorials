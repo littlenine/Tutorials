{
 "cells": [
  {
   "cell_type": "code",
   "execution_count": null,
   "metadata": {},
   "outputs": [],
   "source": [
    "# Target\n",
    "    1. CNN auto-encoder to know I  << 改成GAN用decremiter來看\n",
    "    2. explain ML to know why this is I"
   ]
  },
  {
   "cell_type": "code",
   "execution_count": 1,
   "metadata": {},
   "outputs": [],
   "source": [
    "import tensorflow as tf\n",
    "from tensorflow import keras\n",
    "\n",
    "# create auto-encoder\n",
    "class CVAE(tf.keras.Model):\n",
    "    def __init__(self, latent_dim):\n",
    "        super(CVAE, self).__init__()\n",
    "        self.latent_dim = latent_dim\n",
    "        self.inference_net = tf.keras.Sequential(\n",
    "          [\n",
    "              tf.keras.layers.InputLayer(input_shape=(28, 28, 1)),\n",
    "              tf.keras.layers.Conv2D(\n",
    "                  filters=32, kernel_size=3, strides=(2, 2), activation='relu'),\n",
    "              tf.keras.layers.Conv2D(\n",
    "                  filters=64, kernel_size=3, strides=(2, 2), activation='relu'),\n",
    "              tf.keras.layers.Flatten(),\n",
    "              # No activation\n",
    "              tf.keras.layers.Dense(latent_dim + latent_dim),\n",
    "          ]\n",
    "        )\n",
    "        \n",
    "        self.generative_net = tf.keras.Sequential(\n",
    "            [\n",
    "              tf.keras.layers.InputLayer(input_shape=(latent_dim,)),\n",
    "              tf.keras.layers.Dense(units=7*7*32, activation=tf.nn.relu),\n",
    "              tf.keras.layers.Reshape(target_shape=(7, 7, 32)),\n",
    "              tf.keras.layers.Conv2DTranspose(\n",
    "                  filters=64,\n",
    "                  kernel_size=3,\n",
    "                  strides=(2, 2),\n",
    "                  padding=\"SAME\",\n",
    "                  activation='relu'),\n",
    "              tf.keras.layers.Conv2DTranspose(\n",
    "                  filters=32,\n",
    "                  kernel_size=3,\n",
    "                  strides=(2, 2),\n",
    "                  padding=\"SAME\",\n",
    "                  activation='relu'),\n",
    "              # No activation\n",
    "              tf.keras.layers.Conv2DTranspose(\n",
    "                  filters=1, kernel_size=3, strides=(1, 1), padding=\"SAME\"),\n",
    "            ]\n",
    "        )\n",
    "    def sample(self, eps=None):\n",
    "        if eps is None:\n",
    "            eps = tf.random.normal(shape=(100, self.latent_dim))\n",
    "        return self.decode(eps, apply_sigmoid=True)\n",
    "\n",
    "    def encode(self, x):\n",
    "        mean, logvar = tf.split(self.inference_net(x), num_or_size_splits=2, axis=1)\n",
    "        return mean, logvar\n",
    "\n",
    "    def reparameterize(self, mean, logvar):\n",
    "        eps = tf.random.normal(shape=mean.shape)\n",
    "        return eps * tf.exp(logvar * .5) + mean\n",
    "\n",
    "    def decode(self, z, apply_sigmoid=False):\n",
    "        logits = self.generative_net(z)\n",
    "        if apply_sigmoid:\n",
    "            probs = tf.sigmoid(logits)\n",
    "            return probs\n",
    "        return logits"
   ]
  },
  {
   "cell_type": "code",
   "execution_count": 2,
   "metadata": {},
   "outputs": [],
   "source": [
    "model = CVAE(50)"
   ]
  },
  {
   "cell_type": "code",
   "execution_count": null,
   "metadata": {},
   "outputs": [],
   "source": [
    "def generate_and_save_images(model, epoch, test_input):\n",
    "    predictions = model.sample(test_input)\n",
    "    fig = plt.figure(figsize=(4,4))\n",
    "\n",
    "    for i in range(predictions.shape[0]):\n",
    "        plt.subplot(4, 4, i+1)\n",
    "        plt.imshow(predictions[i, :, :, 0], cmap='gray')\n",
    "        plt.axis('off')\n",
    "\n",
    "    plt.show()"
   ]
  },
  {
   "cell_type": "code",
   "execution_count": null,
   "metadata": {},
   "outputs": [],
   "source": [
    "## Q. VAE跟GAN之前都是拿來產生圖片，怎麼用encoder做分類問題?"
   ]
  }
 ],
 "metadata": {
  "kernelspec": {
   "display_name": "Python 3",
   "language": "python",
   "name": "python3"
  },
  "language_info": {
   "codemirror_mode": {
    "name": "ipython",
    "version": 3
   },
   "file_extension": ".py",
   "mimetype": "text/x-python",
   "name": "python",
   "nbconvert_exporter": "python",
   "pygments_lexer": "ipython3",
   "version": "3.6.8"
  }
 },
 "nbformat": 4,
 "nbformat_minor": 2
}
